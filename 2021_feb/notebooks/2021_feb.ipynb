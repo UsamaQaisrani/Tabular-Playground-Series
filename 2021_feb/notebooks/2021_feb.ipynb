{
 "cells": [
  {
   "cell_type": "code",
   "execution_count": 47,
   "id": "7e36b5da-96ca-4531-8115-031f6fa1c977",
   "metadata": {},
   "outputs": [],
   "source": [
    "import pandas as pd\n",
    "import numpy as np\n",
    "import matplotlib.pyplot as plt\n",
    "import seaborn as sns\n",
    "from sklearn.preprocessing import OrdinalEncoder"
   ]
  },
  {
   "cell_type": "code",
   "execution_count": 64,
   "id": "9bd4e056-6119-4276-999c-581140cbc5fc",
   "metadata": {},
   "outputs": [],
   "source": [
    "train = pd.read_csv('../data/train.csv')\n",
    "test = pd.read_csv('../data/test.csv')\n",
    "test_ids = test['id']"
   ]
  },
  {
   "cell_type": "code",
   "execution_count": 56,
   "id": "e1d643ab-4537-40bd-9189-a8d13600fd22",
   "metadata": {},
   "outputs": [],
   "source": [
    "def clean(data):\n",
    "    data = data.drop('id', axis=1)\n",
    "    categorical_cols = data.select_dtypes(include=['object', 'category']).columns\n",
    "    encoder = OrdinalEncoder()\n",
    "    data[categorical_cols] = encoder.fit_transform(data[categorical_cols])\n",
    "    return data"
   ]
  },
  {
   "cell_type": "code",
   "execution_count": 57,
   "id": "cf0378cd-2cd2-42b3-bf4c-6abc019cf5cc",
   "metadata": {},
   "outputs": [],
   "source": [
    "train = clean(train)\n",
    "test = clean(test)"
   ]
  },
  {
   "cell_type": "code",
   "execution_count": 58,
   "id": "c0bafa38-c7fa-4d38-ae67-a0a826a19698",
   "metadata": {},
   "outputs": [
    {
     "data": {
      "image/png": "[encoded data removed]",
      "text/plain": [
       "<Figure size 500x500 with 1 Axes>"
      ]
     },
     "metadata": {},
     "output_type": "display_data"
    }
   ],
   "source": [
    "sns.set_style(\"dark\")\n",
    "sns.set_color_codes(palette='deep')\n",
    "f, ax = plt.subplots(figsize=(5, 5))\n",
    "\n",
    "sns.histplot(train['target'], color=\"b\")\n",
    "ax.xaxis.grid(False)\n",
    "ax.set(ylabel=\"Values\")\n",
    "ax.set(xlabel=\"Target\")\n",
    "ax.set(title=\"Target distribution\")\n",
    "sns.despine(trim=True, left=True)\n",
    "plt.show()"
   ]
  },
  {
   "cell_type": "code",
   "execution_count": 59,
   "id": "6f44f4ae-78ff-4ddb-9dd0-d5e86b268256",
   "metadata": {},
   "outputs": [],
   "source": [
    "from sklearn.linear_model import LinearRegression \n",
    "from sklearn.model_selection import train_test_split\n",
    "\n",
    "y = train['target']\n",
    "X = train.drop('target', axis=1)\n",
    "\n",
    "X_train, X_val, y_train, y_val = train_test_split(X, y, test_size=0.2, random_state=42)"
   ]
  },
  {
   "cell_type": "code",
   "execution_count": 60,
   "id": "a17508eb-d8f4-4c76-b025-bde1e849222c",
   "metadata": {},
   "outputs": [],
   "source": [
    "clf = LinearRegression().fit(X_train, y_train)"
   ]
  },
  {
   "cell_type": "code",
   "execution_count": 62,
   "id": "101235d2-a20b-46b7-baa8-4aa5ef3dbc10",
   "metadata": {},
   "outputs": [],
   "source": [
    "predictions = clf.predict(X_val)"
   ]
  },
  {
   "cell_type": "code",
   "execution_count": 63,
   "id": "f1afb8ea-aaf8-43d6-bf27-0d3064ddc4c8",
   "metadata": {},
   "outputs": [],
   "source": [
    "submission_preds = clf.predict(test)\n"
   ]
  },
  {
   "cell_type": "code",
   "execution_count": 65,
   "id": "99c2576a-e3f7-4eb7-a039-e64b2fcb2c31",
   "metadata": {},
   "outputs": [],
   "source": [
    "df = pd.DataFrame({'id': test_ids.values,\n",
    "                   'target': submission_preds,\n",
    "                  })\n",
    "df.to_csv('../submission/submission.csv', index=False)"
   ]
  },
  {
   "cell_type": "code",
   "execution_count": null,
   "id": "4c9a02cd-332d-4d16-9ba0-f814305687f2",
   "metadata": {},
   "outputs": [],
   "source": []
  }
 ],
 "metadata": {
  "kernelspec": {
   "display_name": "Python 3 (ipykernel)",
   "language": "python",
   "name": "python3"
  },
  "language_info": {
   "codemirror_mode": {
    "name": "ipython",
    "version": 3
   },
   "file_extension": ".py",
   "mimetype": "text/x-python",
   "name": "python",
   "nbconvert_exporter": "python",
   "pygments_lexer": "ipython3",
   "version": "3.13.5"
  }
 },
 "nbformat": 4,
 "nbformat_minor": 5
}
