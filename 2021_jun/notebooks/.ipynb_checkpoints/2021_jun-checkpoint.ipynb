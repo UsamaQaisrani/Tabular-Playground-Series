{
 "cells": [
  {
   "cell_type": "markdown",
   "id": "29ce9612-7b6f-43cf-bbf3-b82f04b55eb8",
   "metadata": {},
   "source": [
    "## 1. Importing Libraries"
   ]
  },
  {
   "cell_type": "code",
   "execution_count": 97,
   "id": "cecb39bd-db36-43b2-b2dc-bace1f21491f",
   "metadata": {},
   "outputs": [],
   "source": [
    "# !pip install catboost"
   ]
  },
  {
   "cell_type": "code",
   "execution_count": 98,
   "id": "ff63f20b-2b95-43b7-903b-0583c3fad360",
   "metadata": {},
   "outputs": [],
   "source": [
    "import numpy as np\n",
    "import pandas as pd\n",
    "import os\n",
    "from sklearn.preprocessing import LabelEncoder, StandardScaler\n",
    "from sklearn.model_selection import train_test_split\n",
    "from sklearn.metrics import log_loss\n",
    "from lightgbm import LGBMClassifier\n",
    "from sklearn.ensemble import VotingClassifier, HistGradientBoostingClassifier, GradientBoostingClassifier\n",
    "from catboost import CatBoostClassifier"
   ]
  },
  {
   "cell_type": "markdown",
   "id": "5c4749a8-452a-483a-a9b4-229166faf8d1",
   "metadata": {},
   "source": [
    "## 2. Loading the data"
   ]
  },
  {
   "cell_type": "code",
   "execution_count": 76,
   "id": "1e88047b-856f-4052-8efa-eff4ab5340d0",
   "metadata": {},
   "outputs": [],
   "source": [
    "train = pd.read_csv('../data/train.csv')\n",
    "test = pd.read_csv('../data/test.csv')"
   ]
  },
  {
   "cell_type": "code",
   "execution_count": 77,
   "id": "81d912d8-67a0-4f49-ae2b-35645c004bf9",
   "metadata": {},
   "outputs": [
    {
     "data": {
      "text/html": [
       "<div>\n",
       "<style scoped>\n",
       "    .dataframe tbody tr th:only-of-type {\n",
       "        vertical-align: middle;\n",
       "    }\n",
       "\n",
       "    .dataframe tbody tr th {\n",
       "        vertical-align: top;\n",
       "    }\n",
       "\n",
       "    .dataframe thead th {\n",
       "        text-align: right;\n",
       "    }\n",
       "</style>\n",
       "<table border=\"1\" class=\"dataframe\">\n",
       "  <thead>\n",
       "    <tr style=\"text-align: right;\">\n",
       "      <th></th>\n",
       "      <th>id</th>\n",
       "      <th>feature_0</th>\n",
       "      <th>feature_1</th>\n",
       "      <th>feature_2</th>\n",
       "      <th>feature_3</th>\n",
       "      <th>feature_4</th>\n",
       "      <th>feature_5</th>\n",
       "      <th>feature_6</th>\n",
       "      <th>feature_7</th>\n",
       "      <th>feature_8</th>\n",
       "      <th>...</th>\n",
       "      <th>feature_66</th>\n",
       "      <th>feature_67</th>\n",
       "      <th>feature_68</th>\n",
       "      <th>feature_69</th>\n",
       "      <th>feature_70</th>\n",
       "      <th>feature_71</th>\n",
       "      <th>feature_72</th>\n",
       "      <th>feature_73</th>\n",
       "      <th>feature_74</th>\n",
       "      <th>target</th>\n",
       "    </tr>\n",
       "  </thead>\n",
       "  <tbody>\n",
       "    <tr>\n",
       "      <th>0</th>\n",
       "      <td>0</td>\n",
       "      <td>0</td>\n",
       "      <td>0</td>\n",
       "      <td>6</td>\n",
       "      <td>1</td>\n",
       "      <td>0</td>\n",
       "      <td>0</td>\n",
       "      <td>0</td>\n",
       "      <td>0</td>\n",
       "      <td>7</td>\n",
       "      <td>...</td>\n",
       "      <td>0</td>\n",
       "      <td>0</td>\n",
       "      <td>0</td>\n",
       "      <td>0</td>\n",
       "      <td>0</td>\n",
       "      <td>0</td>\n",
       "      <td>2</td>\n",
       "      <td>0</td>\n",
       "      <td>0</td>\n",
       "      <td>Class_6</td>\n",
       "    </tr>\n",
       "    <tr>\n",
       "      <th>1</th>\n",
       "      <td>1</td>\n",
       "      <td>0</td>\n",
       "      <td>0</td>\n",
       "      <td>0</td>\n",
       "      <td>0</td>\n",
       "      <td>0</td>\n",
       "      <td>0</td>\n",
       "      <td>0</td>\n",
       "      <td>0</td>\n",
       "      <td>0</td>\n",
       "      <td>...</td>\n",
       "      <td>2</td>\n",
       "      <td>0</td>\n",
       "      <td>0</td>\n",
       "      <td>0</td>\n",
       "      <td>0</td>\n",
       "      <td>0</td>\n",
       "      <td>0</td>\n",
       "      <td>1</td>\n",
       "      <td>0</td>\n",
       "      <td>Class_6</td>\n",
       "    </tr>\n",
       "    <tr>\n",
       "      <th>2</th>\n",
       "      <td>2</td>\n",
       "      <td>0</td>\n",
       "      <td>0</td>\n",
       "      <td>0</td>\n",
       "      <td>0</td>\n",
       "      <td>0</td>\n",
       "      <td>1</td>\n",
       "      <td>0</td>\n",
       "      <td>3</td>\n",
       "      <td>0</td>\n",
       "      <td>...</td>\n",
       "      <td>0</td>\n",
       "      <td>0</td>\n",
       "      <td>0</td>\n",
       "      <td>0</td>\n",
       "      <td>1</td>\n",
       "      <td>0</td>\n",
       "      <td>0</td>\n",
       "      <td>0</td>\n",
       "      <td>0</td>\n",
       "      <td>Class_2</td>\n",
       "    </tr>\n",
       "    <tr>\n",
       "      <th>3</th>\n",
       "      <td>3</td>\n",
       "      <td>0</td>\n",
       "      <td>0</td>\n",
       "      <td>7</td>\n",
       "      <td>0</td>\n",
       "      <td>1</td>\n",
       "      <td>5</td>\n",
       "      <td>2</td>\n",
       "      <td>2</td>\n",
       "      <td>0</td>\n",
       "      <td>...</td>\n",
       "      <td>0</td>\n",
       "      <td>4</td>\n",
       "      <td>0</td>\n",
       "      <td>2</td>\n",
       "      <td>2</td>\n",
       "      <td>0</td>\n",
       "      <td>4</td>\n",
       "      <td>3</td>\n",
       "      <td>0</td>\n",
       "      <td>Class_8</td>\n",
       "    </tr>\n",
       "    <tr>\n",
       "      <th>4</th>\n",
       "      <td>4</td>\n",
       "      <td>1</td>\n",
       "      <td>0</td>\n",
       "      <td>0</td>\n",
       "      <td>0</td>\n",
       "      <td>0</td>\n",
       "      <td>0</td>\n",
       "      <td>0</td>\n",
       "      <td>0</td>\n",
       "      <td>0</td>\n",
       "      <td>...</td>\n",
       "      <td>0</td>\n",
       "      <td>0</td>\n",
       "      <td>0</td>\n",
       "      <td>0</td>\n",
       "      <td>0</td>\n",
       "      <td>0</td>\n",
       "      <td>0</td>\n",
       "      <td>0</td>\n",
       "      <td>0</td>\n",
       "      <td>Class_2</td>\n",
       "    </tr>\n",
       "  </tbody>\n",
       "</table>\n",
       "<p>5 rows × 77 columns</p>\n",
       "</div>"
      ],
      "text/plain": [
       "   id  feature_0  feature_1  feature_2  feature_3  feature_4  feature_5  \\\n",
       "0   0          0          0          6          1          0          0   \n",
       "1   1          0          0          0          0          0          0   \n",
       "2   2          0          0          0          0          0          1   \n",
       "3   3          0          0          7          0          1          5   \n",
       "4   4          1          0          0          0          0          0   \n",
       "\n",
       "   feature_6  feature_7  feature_8  ...  feature_66  feature_67  feature_68  \\\n",
       "0          0          0          7  ...           0           0           0   \n",
       "1          0          0          0  ...           2           0           0   \n",
       "2          0          3          0  ...           0           0           0   \n",
       "3          2          2          0  ...           0           4           0   \n",
       "4          0          0          0  ...           0           0           0   \n",
       "\n",
       "   feature_69  feature_70  feature_71  feature_72  feature_73  feature_74  \\\n",
       "0           0           0           0           2           0           0   \n",
       "1           0           0           0           0           1           0   \n",
       "2           0           1           0           0           0           0   \n",
       "3           2           2           0           4           3           0   \n",
       "4           0           0           0           0           0           0   \n",
       "\n",
       "    target  \n",
       "0  Class_6  \n",
       "1  Class_6  \n",
       "2  Class_2  \n",
       "3  Class_8  \n",
       "4  Class_2  \n",
       "\n",
       "[5 rows x 77 columns]"
      ]
     },
     "execution_count": 77,
     "metadata": {},
     "output_type": "execute_result"
    }
   ],
   "source": [
    "train.head()"
   ]
  },
  {
   "cell_type": "markdown",
   "id": "2ca430e6-36ae-41cf-abb1-9019b55934f2",
   "metadata": {},
   "source": [
    "## 3. Encoding the target data"
   ]
  },
  {
   "cell_type": "code",
   "execution_count": 78,
   "id": "7e4a5b84-c0ea-40f1-861d-00eba6eaf035",
   "metadata": {},
   "outputs": [],
   "source": [
    "le = LabelEncoder()\n",
    "y = le.fit_transform(train['target'])"
   ]
  },
  {
   "cell_type": "markdown",
   "id": "38008c99-49d1-443a-9501-d94a880c9361",
   "metadata": {},
   "source": [
    "## 4. Preparing features"
   ]
  },
  {
   "cell_type": "code",
   "execution_count": 79,
   "id": "c1c0a690-c48c-4d30-821e-66aca217d198",
   "metadata": {},
   "outputs": [],
   "source": [
    "X = train.drop(['id', 'target'], axis=1)"
   ]
  },
  {
   "cell_type": "markdown",
   "id": "227ba4be-458d-41d2-8e38-f2dede0d6a52",
   "metadata": {},
   "source": [
    "## 6. Splitting the data"
   ]
  },
  {
   "cell_type": "code",
   "execution_count": 80,
   "id": "50ee08c2-bd7c-4305-8da7-9017056baba3",
   "metadata": {},
   "outputs": [],
   "source": [
    "X_train, X_val, y_train, y_val = train_test_split(X, y, test_size=0.2, random_state=42)"
   ]
  },
  {
   "cell_type": "markdown",
   "id": "6c7beeb2-9472-4b66-a6ef-5fd4b93c36e1",
   "metadata": {},
   "source": [
    "## 5. Feature Scaling for Logistic Regression"
   ]
  },
  {
   "cell_type": "code",
   "execution_count": 99,
   "id": "5b23f91e-102a-49ee-8510-b7bd1df3222a",
   "metadata": {},
   "outputs": [],
   "source": [
    "# scaler = StandardScaler()\n",
    "# X_train_scaled = scaler.fit_transform(X_train)"
   ]
  },
  {
   "cell_type": "code",
   "execution_count": 82,
   "id": "ed270732-49f8-4569-bfb4-356544b6dce3",
   "metadata": {},
   "outputs": [],
   "source": [
    "# logreg = LogisticRegression(multi_class='multinomial', solver='lbfgs', max_iter=1000, random_state=42)\n",
    "# logreg.fit(X_train, y_train)"
   ]
  },
  {
   "cell_type": "code",
   "execution_count": 83,
   "id": "62cfb4a4-2e6b-48af-a4f8-a8c60fa8d43a",
   "metadata": {},
   "outputs": [],
   "source": [
    "# y_val_prob = logreg.predict_proba(X_val)\n",
    "# logloss_score = log_loss(y_val, y_val_prob)\n",
    "# print(f'Log loss score: {logloss_score:.4f}')"
   ]
  },
  {
   "cell_type": "code",
   "execution_count": 85,
   "id": "0613840b-b5a0-4945-88cb-a4dcba94cf08",
   "metadata": {},
   "outputs": [],
   "source": [
    "# rf_model = RandomForestClassifier(\n",
    "#     n_estimators=200,         # number of trees\n",
    "#     max_depth=None,           # expand until pure or until min_samples_split\n",
    "#     random_state=42,\n",
    "#     n_jobs=-1                 # use all cores\n",
    "# )"
   ]
  },
  {
   "cell_type": "code",
   "execution_count": 101,
   "id": "bd731ebe-9030-491a-972d-b3941f442d8b",
   "metadata": {},
   "outputs": [],
   "source": [
    "# rf_model.fit(X_train_scaled, y_train)\n"
   ]
  },
  {
   "cell_type": "code",
   "execution_count": 102,
   "id": "fb21876d-5697-4fb7-8c9f-ddbc8d6b635f",
   "metadata": {},
   "outputs": [],
   "source": [
    "# y_val_prob = rf_model.predict_proba(X_val)"
   ]
  },
  {
   "cell_type": "code",
   "execution_count": 100,
   "id": "e8214524-0ae1-4c9e-a3f9-60a9798cfe7a",
   "metadata": {},
   "outputs": [],
   "source": [
    "# val_logloss = log_loss(y_val, y_val_prob, labels=np.unique(y_val))\n",
    "# print(f\"Validation Log Loss: {val_logloss:.4f}\")"
   ]
  },
  {
   "cell_type": "code",
   "execution_count": 104,
   "id": "fa772882-018f-4c86-8106-1ef02945cfef",
   "metadata": {},
   "outputs": [],
   "source": [
    "model1 = GradientBoostingClassifier(random_state=42)\n",
    "model2 = LGBMClassifier(objective='multiclass', metric='multi_logloss', random_state=42)\n",
    "model3 = HistGradientBoostingClassifier(random_state=42)\n",
    "model4 = CatBoostClassifier(loss_function='MultiClass', verbose=False, random_state=42)"
   ]
  },
  {
   "cell_type": "code",
   "execution_count": 105,
   "id": "93fa3a27-830b-485c-82fa-d2a9334db93f",
   "metadata": {},
   "outputs": [],
   "source": [
    "estimators = [('gbm', model1), ('lgbm', model2), ('hgbm', model3), ('catb', model4)]\n",
    "vc = VotingClassifier(estimators, voting='soft')"
   ]
  },
  {
   "cell_type": "code",
   "execution_count": null,
   "id": "6cbaa254-1e4b-4dcd-9895-feffcd6aded4",
   "metadata": {},
   "outputs": [],
   "source": [
    "vc.fit(X_train, y_train)"
   ]
  },
  {
   "cell_type": "code",
   "execution_count": null,
   "id": "12c0e97e-f912-4f40-9aa2-052e5feb8c1d",
   "metadata": {},
   "outputs": [],
   "source": [
    "y_prob = vc.predict_proba(X_test)\n",
    "logloss_score = log_loss(y_test, y_prob, labels=np.unique(y_test))\n",
    "logloss_score"
   ]
  },
  {
   "cell_type": "code",
   "execution_count": null,
   "id": "f8cef997-9b46-4482-b199-e50474211ca8",
   "metadata": {},
   "outputs": [],
   "source": []
  }
 ],
 "metadata": {
  "kernelspec": {
   "display_name": "Python 3 (ipykernel)",
   "language": "python",
   "name": "python3"
  },
  "language_info": {
   "codemirror_mode": {
    "name": "ipython",
    "version": 3
   },
   "file_extension": ".py",
   "mimetype": "text/x-python",
   "name": "python",
   "nbconvert_exporter": "python",
   "pygments_lexer": "ipython3",
   "version": "3.11.9"
  }
 },
 "nbformat": 4,
 "nbformat_minor": 5
}
