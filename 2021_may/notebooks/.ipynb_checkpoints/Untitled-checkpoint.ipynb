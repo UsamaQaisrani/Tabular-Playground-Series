{
 "cells": [
  {
   "cell_type": "code",
   "execution_count": 26,
   "id": "e9317917-50ce-441e-ac60-0bd45d4d7225",
   "metadata": {},
   "outputs": [],
   "source": [
    "from sklearn.model_selection import train_test_split\n",
    "from sklearn.datasets import fetch_openml\n",
    "import matplotlib as mpl\n",
    "import matplotlib.pyplot as plt\n",
    "import pandas as pd\n",
    "import numpy as np\n",
    "from sklearn.svm import SVC\n",
    "from sklearn.model_selection import cross_val_predict\n",
    "from sklearn.metrics import confusion_matrix\n",
    "from sklearn.metrics import roc_curve"
   ]
  },
  {
   "cell_type": "code",
   "execution_count": 27,
   "id": "5817a134-c2e4-41b6-8797-6bffcdebd032",
   "metadata": {},
   "outputs": [],
   "source": [
    "train = pd.read_csv('../data/train.csv')\n",
    "test = pd.read_csv('../data/test.csv')"
   ]
  },
  {
   "cell_type": "code",
   "execution_count": 28,
   "id": "5425231d-cf63-44a6-a4e0-2f757e03bfba",
   "metadata": {},
   "outputs": [],
   "source": [
    "y = train['target']\n",
    "X = train.drop('target', axis=1)"
   ]
  },
  {
   "cell_type": "code",
   "execution_count": 29,
   "id": "eee8ffc7-bb5c-434e-9b00-a06adfad85d8",
   "metadata": {},
   "outputs": [],
   "source": [
    "X_train, X_val, y_train, y_val = train_test_split(X, y, test_size=0.2, random_state=42)"
   ]
  },
  {
   "cell_type": "code",
   "execution_count": 32,
   "id": "5a8cce4d-5208-4221-9ef5-7174db927ecc",
   "metadata": {},
   "outputs": [],
   "source": [
    "from sklearn.ensemble import RandomForestClassifier\n",
    "model = RandomForestClassifier()\n",
    "model.fit(X_train, y_train)\n",
    "probs = model.predict_proba(X_train)"
   ]
  },
  {
   "cell_type": "code",
   "execution_count": 33,
   "id": "f58a27f2-fbbb-40ab-ac56-eb7a3d743e95",
   "metadata": {},
   "outputs": [
    {
     "data": {
      "text/plain": [
       "array([[ 6828,     0,     0,     0],\n",
       "       [    0, 45950,     0,     0],\n",
       "       [    0,     0, 17104,     0],\n",
       "       [    0,     0,     0, 10118]])"
      ]
     },
     "execution_count": 33,
     "metadata": {},
     "output_type": "execute_result"
    }
   ],
   "source": [
    "conf_mx = confusion_matrix(y_train, y_train)\n",
    "conf_mx"
   ]
  },
  {
   "cell_type": "code",
   "execution_count": 36,
   "id": "0e20f2c3-2fc9-4ef7-95ed-dd9f6c4e1501",
   "metadata": {},
   "outputs": [
    {
     "data": {
      "image/png": "[encoded data removed]",
      "text/plain": [
       "<Figure size 480x480 with 1 Axes>"
      ]
     },
     "metadata": {},
     "output_type": "display_data"
    }
   ],
   "source": [
    "plt.matshow(conf_mx, cmap=plt.cm.gray)\n",
    "plt.show()"
   ]
  },
  {
   "cell_type": "code",
   "execution_count": 34,
   "id": "1c0e8ebe-669e-4188-bfb7-6addeef61251",
   "metadata": {},
   "outputs": [],
   "source": [
    "row_sums = conf_mx.sum(axis=1, keepdims=True)\n",
    "norm_conf_mx = conf_mx / row_sums"
   ]
  },
  {
   "cell_type": "code",
   "execution_count": 35,
   "id": "a5761313-0ea2-4e0b-89fe-5fa9dcf7902e",
   "metadata": {},
   "outputs": [
    {
     "data": {
      "image/png": "[encoded data removed]",
      "text/plain": [
       "<Figure size 480x480 with 1 Axes>"
      ]
     },
     "metadata": {},
     "output_type": "display_data"
    }
   ],
   "source": [
    "np.fill_diagonal(norm_conf_mx, 0)\n",
    "plt.matshow(norm_conf_mx, cmap=plt.cm.gray)\n",
    "plt.show()\n"
   ]
  },
  {
   "cell_type": "code",
   "execution_count": 39,
   "id": "4571fd33-201e-428d-aa67-b91689bbc3f9",
   "metadata": {},
   "outputs": [
    {
     "data": {
      "text/plain": [
       "array([[0.12, 0.56, 0.2 , 0.12],\n",
       "       [0.12, 0.55, 0.16, 0.17],\n",
       "       [0.08, 0.31, 0.38, 0.23],\n",
       "       ...,\n",
       "       [0.14, 0.53, 0.15, 0.18],\n",
       "       [0.1 , 0.52, 0.21, 0.17],\n",
       "       [0.07, 0.44, 0.21, 0.28]], shape=(50000, 4))"
      ]
     },
     "execution_count": 39,
     "metadata": {},
     "output_type": "execute_result"
    }
   ],
   "source": [
    "probs_test = model.predict_proba(test)\n",
    "probs_test"
   ]
  },
  {
   "cell_type": "code",
   "execution_count": 41,
   "id": "e7da9af9-332f-42d0-85cb-3f701f4ee7e4",
   "metadata": {},
   "outputs": [],
   "source": [
    "df = pd.DataFrame({\n",
    "    'id': test['id'].values,  # Or use np.arange(100000, 100000 + len(submission_preds)) if needed\n",
    "    'Class_1': probs_test[:, 0],\n",
    "    'Class_2': probs_test[:, 1],\n",
    "    'Class_3': probs_test[:, 2],\n",
    "    'Class_4': probs_test[:, 3],\n",
    "})\n",
    "\n",
    "df.to_csv('../submission/submission.csv', index=False)\n"
   ]
  },
  {
   "cell_type": "code",
   "execution_count": null,
   "id": "a8206289-533b-4d30-a75e-0ec343f783ba",
   "metadata": {},
   "outputs": [],
   "source": []
  }
 ],
 "metadata": {
  "kernelspec": {
   "display_name": "Python (2021_may)",
   "language": "python",
   "name": "ml_project_env"
  },
  "language_info": {
   "codemirror_mode": {
    "name": "ipython",
    "version": 3
   },
   "file_extension": ".py",
   "mimetype": "text/x-python",
   "name": "python",
   "nbconvert_exporter": "python",
   "pygments_lexer": "ipython3",
   "version": "3.13.5"
  }
 },
 "nbformat": 4,
 "nbformat_minor": 5
}
